{
 "cells": [
  {
   "cell_type": "code",
   "execution_count": 2,
   "id": "b0c3b25f",
   "metadata": {},
   "outputs": [
    {
     "data": {
      "text/html": [
       "\n",
       "<style>\n",
       "    .custom-header {\n",
       "        background: #f2f2f2;\n",
       "        color: #336699;\n",
       "        padding: 10px;\n",
       "        text-align: center;\n",
       "        font-size: 24px;\n",
       "        font-weight: bold;\n",
       "    }\n",
       "    .widget-label {\n",
       "        margin-right: 10px;\n",
       "        font-weight: bold;\n",
       "    }\n",
       "    body {\n",
       "        background: #e6e6e6;\n",
       "    }\n",
       "</style>\n"
      ],
      "text/plain": [
       "<IPython.core.display.HTML object>"
      ]
     },
     "metadata": {},
     "output_type": "display_data"
    },
    {
     "data": {
      "text/html": [
       "<div class=\"custom-header\">Creative Careers</div>"
      ],
      "text/plain": [
       "<IPython.core.display.HTML object>"
      ]
     },
     "metadata": {},
     "output_type": "display_data"
    },
    {
     "data": {
      "application/vnd.jupyter.widget-view+json": {
       "model_id": "5fd0ccfb696d4ee18806cb152960773a",
       "version_major": 2,
       "version_minor": 0
      },
      "text/plain": [
       "Dropdown(description='Creative Type:', options=('Select a creative type', 'The Artist', 'The Thinker', 'The Vi…"
      ]
     },
     "metadata": {},
     "output_type": "display_data"
    },
    {
     "data": {
      "application/vnd.jupyter.widget-view+json": {
       "model_id": "1ab2fad9c6314afe82799368520d92da",
       "version_major": 2,
       "version_minor": 0
      },
      "text/plain": [
       "Dropdown(description='Industry:', disabled=True, options=('Select an industry',), value='Select an industry')"
      ]
     },
     "metadata": {},
     "output_type": "display_data"
    },
    {
     "data": {
      "application/vnd.jupyter.widget-view+json": {
       "model_id": "f0dc1e0ddf3346bca109d083f87d98d8",
       "version_major": 2,
       "version_minor": 0
      },
      "text/plain": [
       "Dropdown(description='Job:', disabled=True, options=('Select a job',), value='Select a job')"
      ]
     },
     "metadata": {},
     "output_type": "display_data"
    },
    {
     "data": {
      "application/vnd.jupyter.widget-view+json": {
       "model_id": "2c40e5a7aff342c4a8f13f00e36240f1",
       "version_major": 2,
       "version_minor": 0
      },
      "text/plain": [
       "Output()"
      ]
     },
     "metadata": {},
     "output_type": "display_data"
    }
   ],
   "source": [
    "from IPython.display import HTML, display\n",
    "\n",
    "# HTML/CSS styling\n",
    "style_html = \"\"\"\n",
    "<style>\n",
    "    .custom-header {\n",
    "        background: #f2f2f2;\n",
    "        color: #336699;\n",
    "        padding: 10px;\n",
    "        text-align: center;\n",
    "        font-size: 24px;\n",
    "        font-weight: bold;\n",
    "    }\n",
    "    .widget-label {\n",
    "        margin-right: 10px;\n",
    "        font-weight: bold;\n",
    "    }\n",
    "    body {\n",
    "        background: #e6e6e6;\n",
    "    }\n",
    "</style>\n",
    "\"\"\"\n",
    "\n",
    "# Display the styles\n",
    "display(HTML(style_html))\n",
    "\n",
    "# Display a custom header with the name \"Creative Careers\"\n",
    "display(HTML('<div class=\"custom-header\">Creative Careers</div>'))\n",
    "\n",
    "# Follow this with your interactive widgets code\n",
    "# The CSS provided earlier applies to this section\n",
    "\n",
    "\n",
    "import ipywidgets as widgets\n",
    "from IPython.display import display, clear_output\n",
    "\n",
    "# Corrected structure for creative types, industries, jobs, and skillsets\n",
    "creative_type_industry_jobs = {\n",
    "    \"The Artist\": {\n",
    "        \"Media\": [\"Art Director\", \"Concept Artist\", \"Film Editor\", \"Photographer\"],\n",
    "        \"Design\": [\"Creative Director\", \"Industrial Designer\", \"UI/UX Designer\", \"Web Designer\"],\n",
    "        \"Advertising\": [\"Brand Strategist\", \"Copywriter\", \"Creative Strategist\", \"Marketing Manager\"],\n",
    "    },\n",
    "    \"The Thinker\": {\n",
    "        \"Education\": [\"Educational Consultant\", \"Curriculum Designer\", \"Instructional Coordinator\"],\n",
    "        \"Consulting\": [\"Management Consultant\", \"Business Analyst\", \"Strategy Consultant\"],\n",
    "        \"Technology\": [\"Data Analyst\", \"Product Manager\", \"UX Researcher\", \"Technical Writer\"],\n",
    "    },\n",
    "    \"The Visionary\": {\n",
    "        \"Leadership\": [\"Executive Director\", \"Chief Visionary Officer\", \"Strategy Director\"],\n",
    "        \"Innovation\": [\"Innovation Manager\", \"Product Development Manager\", \"R&D Specialist\"],\n",
    "        \"Technology\": [\"CTO\", \"Tech Startup Founder\", \"Blockchain Developer\"],\n",
    "    },\n",
    "    \"The Adventurer\": {\n",
    "        \"Travel\": [\"Travel Blogger\", \"Documentary Filmmaker\", \"Adventure Photographer\"],\n",
    "        \"Exploration\": [\"Environmental Researcher\", \"Cultural Anthropologist\", \"Wildlife Conservationist\"],\n",
    "        \"Sports\": [\"Sports Photographer\", \"Outdoor Activities Director\", \"Sports Marketing Specialist\"],\n",
    "    },\n",
    "    \"The Maker\": {\n",
    "        \"Manufacturing\": [\"Product Designer\", \"Quality Assurance Engineer\", \"Manufacturing Supervisor\"],\n",
    "        \"Crafts\": [\"Jewelry Designer\", \"Potter\", \"Glassblower\"],\n",
    "        \"Construction\": [\"Architectural Model Maker\", \"Carpenter\", \"Landscape Architect\"],\n",
    "    },\n",
    "    \"The Innovator\": {\n",
    "        \"Technology\": [\"Software Developer\", \"AI Research Scientist\", \"Systems Architect\"],\n",
    "        \"Science\": [\"Lab Technician\", \"Clinical Research Coordinator\", \"Pharmaceutical Researcher\"],\n",
    "        \"Business\": [\"Startup Founder\", \"Business Development Manager\", \"Growth Hacker\"],\n",
    "    },\n",
    "    \"The Producer\": {\n",
    "        \"Media Production\": [\"Film Producer\", \"TV Show Producer\", \"Music Video Director\"],\n",
    "        \"Live Events\": [\"Event Planner\", \"Concert Organizer\", \"Theatre Producer\"],\n",
    "        \"Digital Content\": [\"Content Production Manager\", \"Digital Media Coordinator\", \"Podcast Producer\"],\n",
    "    },\n",
    "    \"The Dreamer\": {\n",
    "        \"Creative Writing\": [\"Novelist\", \"Screenwriter\", \"Poet\"],\n",
    "        \"Art & Design\": [\"Concept Artist\", \"Animator\", \"Fashion Designer\"],\n",
    "        \"Philosophy & Thought\": [\"Philosopher\", \"Theoretical Scientist\", \"Public Speaker\"],\n",
    "    },\n",
    "    # Feel free to add more creative types and their respective jobs\n",
    "}\n",
    "\n",
    "\n",
    "skillsets = {\n",
    "    \"Art Director\": [\"Creativity\", \"Leadership\", \"Visual communication\"],\n",
    "    \"Concept Artist\": [\"Drawing skills\", \"Imagination\", \"Software proficiency\"],\n",
    "    \"Creative Director\": [\"Leadership\", \"Brand understanding\", \"Creativity\"],\n",
    "    \"Industrial Designer\": [\"Design skills\", \"Technical knowledge\", \"Creativity\"],\n",
    "    \"Brand Strategist\": [\"Strategic thinking\", \"Brand knowledge\", \"Communication skills\"],\n",
    "    \"Copywriter\": [\"Writing skills\", \"Creativity\", \"Understanding of target audience\"],\n",
    "    \"Film Editor\": [\"Technical editing skills\", \"Storytelling\", \"Attention to detail\"],\n",
    "    \"Photographer\": [\"Photography skills\", \"Creativity\", \"Technical knowledge of cameras\"],\n",
    "    \"UI/UX Designer\": [\"User interface design\", \"User experience research\", \"Prototyping tools\"],\n",
    "    \"Web Designer\": [\"HTML/CSS\", \"Graphic design\", \"Responsive design principles\"],\n",
    "    \"Marketing Manager\": [\"Marketing strategies\", \"Communication\", \"Analytical skills\"],\n",
    "    \"Educational Consultant\": [\"Knowledge of educational systems\", \"Curriculum development\", \"Advisory skills\"],\n",
    "    \"Curriculum Designer\": [\"Instructional design\", \"Educational technology\", \"Curriculum evaluation\"],\n",
    "    \"Management Consultant\": [\"Business strategy\", \"Analytical thinking\", \"Problem-solving\"],\n",
    "    \"Business Analyst\": [\"Business process analysis\", \"Data analysis\", \"Technical writing\"],\n",
    "    \"Data Analyst\": [\"Data analysis tools\", \"Statistical analysis\", \"Data visualization\"],\n",
    "    \"Product Manager\": [\"Product lifecycle management\", \"Market research\", \"Agile methodologies\"],\n",
    "    \"UX Researcher\": [\"User research\", \"Usability testing\", \"Interaction design\"],\n",
    "    \"Technical Writer\": [\"Technical writing\", \"Documentation tools\", \"Understanding of technology\"],\n",
    "    \"Travel Blogger\": [\"Writing and storytelling\", \"SEO\", \"Social media marketing\"],\n",
    "    \"Documentary Filmmaker\": [\"Filmmaking skills\", \"Research\", \"Storytelling\"],\n",
    "    \"Adventure Photographer\": [\"Photography skills\", \"Physical fitness\", \"Travel logistics\"],\n",
    "    \"Product Designer\": [\"Design thinking\", \"Prototyping\", \"User-centered design\"],\n",
    "    \"Jewelry Designer\": [\"Craftsmanship\", \"Creativity\", \"Knowledge of materials\"],\n",
    "    \"Software Developer\": [\"Programming languages\", \"Software development lifecycle\", \"Problem-solving\"],\n",
    "    \"AI Research Scientist\": [\"Machine learning\", \"Programming\", \"Statistical analysis\"],\n",
    "    \"Systems Architect\": [\"System design\", \"Software architecture\", \"Interoperability standards\"],\n",
    "    \"Film Producer\": [\"Project management\", \"Budgeting\", \"Negotiation skills\"],\n",
    "    \"Event Planner\": [\"Organizational skills\", \"Budget management\", \"Vendor relations\"],\n",
    "    \"Content Production Manager\": [\"Content strategy\", \"Project management\", \"Editing skills\"],\n",
    "    \"Novelist\": [\"Creative writing\", \"Discipline\", \"Publishing industry knowledge\"],\n",
    "    \"Screenwriter\": [\"Scriptwriting\", \"Story structure\", \"Dialogue creation\"],\n",
    "    \"Poet\": [\"Creative writing\", \"Literary devices\", \"Publication knowledge\"],\n",
    "    \"Philosopher\": [\"Critical thinking\", \"Philosophical theories\", \"Writing and argumentation\"],\n",
    "    # Continue adding skillsets for other jobs as needed\n",
    "}\n",
    "\n",
    "# Widgets\n",
    "creative_type_selector = widgets.Dropdown(options=['Select a creative type'] + list(creative_type_industry_jobs.keys()), description='Creative Type:')\n",
    "industry_selector = widgets.Dropdown(options=['Select an industry'], description='Industry:', disabled=True)\n",
    "job_selector = widgets.Dropdown(options=['Select a job'], description='Job:', disabled=True)\n",
    "skillset_display = widgets.Output()\n",
    "\n",
    "def update_industry_selector(change):\n",
    "    creative_type = change['new']\n",
    "    if creative_type != 'Select a creative type':\n",
    "        industry_selector.options = ['Select an industry'] + list(creative_type_industry_jobs[creative_type].keys())\n",
    "        industry_selector.disabled = False\n",
    "    else:\n",
    "        industry_selector.options = ['Select an industry']\n",
    "        industry_selector.disabled = True\n",
    "        industry_selector.value = 'Select an industry'\n",
    "    job_selector.options = ['Select a job']\n",
    "    job_selector.disabled = True\n",
    "    job_selector.value = 'Select a job'\n",
    "    skillset_display.clear_output()\n",
    "\n",
    "def update_job_selector(change):\n",
    "    industry = change['new']\n",
    "    creative_type = creative_type_selector.value\n",
    "    if industry != 'Select an industry':\n",
    "        job_selector.options = ['Select a job'] + creative_type_industry_jobs[creative_type][industry]\n",
    "        job_selector.disabled = False\n",
    "    else:\n",
    "        job_selector.options = ['Select a job']\n",
    "        job_selector.disabled = True\n",
    "        job_selector.value = 'Select a job'\n",
    "    skillset_display.clear_output()\n",
    "\n",
    "def display_skillset(change):\n",
    "    job = change['new']\n",
    "    if job != 'Select a job':\n",
    "        with skillset_display:\n",
    "            clear_output()\n",
    "            if job in skillsets:\n",
    "                print(f\"Skillset required for {job}:\")\n",
    "                for skill in skillsets[job]:\n",
    "                    print(f\"- {skill}\")\n",
    "            else:\n",
    "                print(\"No specific skillset data available for this job.\")\n",
    "\n",
    "# Observers\n",
    "creative_type_selector.observe(update_industry_selector, names='value')\n",
    "industry_selector.observe(update_job_selector, names='value')\n",
    "job_selector.observe(display_skillset, names='value')\n",
    "\n",
    "# Display\n",
    "display(creative_type_selector, industry_selector, job_selector, skillset_display)\n"
   ]
  },
  {
   "cell_type": "code",
   "execution_count": null,
   "id": "900527bf",
   "metadata": {},
   "outputs": [],
   "source": []
  }
 ],
 "metadata": {
  "kernelspec": {
   "display_name": "Python 3 (ipykernel)",
   "language": "python",
   "name": "python3"
  },
  "language_info": {
   "codemirror_mode": {
    "name": "ipython",
    "version": 3
   },
   "file_extension": ".py",
   "mimetype": "text/x-python",
   "name": "python",
   "nbconvert_exporter": "python",
   "pygments_lexer": "ipython3",
   "version": "3.10.9"
  }
 },
 "nbformat": 4,
 "nbformat_minor": 5
}
